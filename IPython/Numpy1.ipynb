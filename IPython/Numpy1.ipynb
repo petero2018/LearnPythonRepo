{
 "cells": [
  {
   "cell_type": "code",
   "execution_count": 2,
   "metadata": {},
   "outputs": [],
   "source": [
    "import numpy as np"
   ]
  },
  {
   "cell_type": "code",
   "execution_count": null,
   "metadata": {},
   "outputs": [],
   "source": [
    "np.random??"
   ]
  },
  {
   "cell_type": "code",
   "execution_count": 75,
   "metadata": {},
   "outputs": [
    {
     "data": {
      "text/plain": [
       "  C_CONTIGUOUS : True\n",
       "  F_CONTIGUOUS : True\n",
       "  OWNDATA : True\n",
       "  WRITEABLE : True\n",
       "  ALIGNED : True\n",
       "  WRITEBACKIFCOPY : False\n",
       "  UPDATEIFCOPY : False"
      ]
     },
     "execution_count": 75,
     "metadata": {},
     "output_type": "execute_result"
    }
   ],
   "source": [
    "a2 = np.arange(10)\n",
    "a2.flags"
   ]
  },
  {
   "cell_type": "code",
   "execution_count": 45,
   "metadata": {},
   "outputs": [
    {
     "name": "stdout",
     "output_type": "stream",
     "text": [
      "50\n",
      "150\n",
      "250\n",
      "350\n",
      "450\n",
      "550\n",
      "650\n",
      "750\n",
      "850\n",
      "950\n"
     ]
    }
   ],
   "source": [
    "lst=[]\n",
    "for q in range(50,1050,100):\n",
    "    lst.append(q)\n",
    "    \n",
    "for i in range(len(lst)):\n",
    "    print(lst[i])"
   ]
  },
  {
   "cell_type": "code",
   "execution_count": 121,
   "metadata": {},
   "outputs": [
    {
     "data": {
      "text/plain": [
       "(array([ 10.  ,  21.25,  32.5 ,  43.75,  55.  ,  66.25,  77.5 ,  88.75,\n",
       "        100.  ]), 11.25)"
      ]
     },
     "execution_count": 121,
     "metadata": {},
     "output_type": "execute_result"
    }
   ],
   "source": [
    "np.linspace(10,100,9, endpoint=True, retstep=True)"
   ]
  },
  {
   "cell_type": "code",
   "execution_count": 126,
   "metadata": {},
   "outputs": [
    {
     "data": {
      "text/plain": [
       "array([1.00000000e+01, 1.20226443e+01, 1.44543977e+01, 1.73780083e+01,\n",
       "       2.08929613e+01, 2.51188643e+01, 3.01995172e+01, 3.63078055e+01,\n",
       "       4.36515832e+01, 5.24807460e+01, 6.30957344e+01, 7.58577575e+01,\n",
       "       9.12010839e+01, 1.09647820e+02, 1.31825674e+02, 1.58489319e+02,\n",
       "       1.90546072e+02, 2.29086765e+02, 2.75422870e+02, 3.31131121e+02,\n",
       "       3.98107171e+02, 4.78630092e+02, 5.75439937e+02, 6.91830971e+02,\n",
       "       8.31763771e+02, 1.00000000e+03, 1.20226443e+03, 1.44543977e+03,\n",
       "       1.73780083e+03, 2.08929613e+03, 2.51188643e+03, 3.01995172e+03,\n",
       "       3.63078055e+03, 4.36515832e+03, 5.24807460e+03, 6.30957344e+03,\n",
       "       7.58577575e+03, 9.12010839e+03, 1.09647820e+04, 1.31825674e+04,\n",
       "       1.58489319e+04, 1.90546072e+04, 2.29086765e+04, 2.75422870e+04,\n",
       "       3.31131121e+04, 3.98107171e+04, 4.78630092e+04, 5.75439937e+04,\n",
       "       6.91830971e+04, 8.31763771e+04])"
      ]
     },
     "execution_count": 126,
     "metadata": {},
     "output_type": "execute_result"
    }
   ],
   "source": [
    "np.logspace(1.0, 5.0, num=50, endpoint=False)"
   ]
  },
  {
   "cell_type": "code",
   "execution_count": 101,
   "metadata": {},
   "outputs": [
    {
     "name": "stdout",
     "output_type": "stream",
     "text": [
      "[[[  5  10  15  20  25]\n",
      "  [ 30  35  40  45  50]]\n",
      "\n",
      " [[ 55  60  65  70  75]\n",
      "  [ 80  85  90  95 100]]]\n",
      "As int\n",
      "----------------------------------------------------------------------------------------------------\n",
      "[[[  5.  10.  15.  20.  25.]\n",
      "  [ 30.  35.  40.  45.  50.]]\n",
      "\n",
      " [[ 55.  60.  65.  70.  75.]\n",
      "  [ 80.  85.  90.  95. 100.]]]\n",
      "As float\n",
      "----------------------------------------------------------------------------------------------------\n",
      "Number of dimensions:  3\n",
      "The size of item X is:  8 bytes\n"
     ]
    }
   ],
   "source": [
    "x = np.arange(5,105,5).reshape(2,2,5);\n",
    "x2 = np.asarray(x,dtype=float)\n",
    "\n",
    "\n",
    "print(x);print('As int')\n",
    "print('-'*100);\n",
    "print(x2);print('As float')\n",
    "print('-'*100);\n",
    "print('Number of dimensions: ',x.ndim);\n",
    "print('The size of item X is: ',x.itemsize, 'bytes');\n"
   ]
  },
  {
   "cell_type": "code",
   "execution_count": 97,
   "metadata": {},
   "outputs": [
    {
     "data": {
      "text/plain": [
       "array([[           21784048,     139976205552912,            10296512,\n",
       "        6660032592998379568, 4265009324410024053,                 129,\n",
       "            139976205402352,     139976205402352,                   0,\n",
       "                         97],\n",
       "       [    139976205402320,     139976205402320, 8390326387129478690,\n",
       "        3196769774425811065, 2323048602843837540, 7287435672274890345,\n",
       "        7957695015493526904, 4189038621173441375,             8206392,\n",
       "                         -1]])"
      ]
     },
     "execution_count": 97,
     "metadata": {},
     "output_type": "execute_result"
    }
   ],
   "source": [
    "np.empty([2,10],dtype=int, order='C' ) #Return a new array of given shape and type, without initializing entries"
   ]
  },
  {
   "cell_type": "code",
   "execution_count": 116,
   "metadata": {},
   "outputs": [
    {
     "data": {
      "text/plain": [
       "array([ 0,  1,  2,  3,  4,  5,  6,  7,  8,  9, 10, 11, 12, 13, 14, 15, 16,\n",
       "       17, 18, 19])"
      ]
     },
     "execution_count": 116,
     "metadata": {},
     "output_type": "execute_result"
    }
   ],
   "source": [
    "np.fromiter(range(20),dtype=int) #Create a new 1-dimensional array from an iterable object."
   ]
  },
  {
   "cell_type": "code",
   "execution_count": 11,
   "metadata": {},
   "outputs": [
    {
     "data": {
      "text/plain": [
       "array([[[  1,   2,   3,   4],\n",
       "        [  5,   6,   7,   8],\n",
       "        [  9,  10,  11,  12],\n",
       "        [ 13,  14,  15,  16],\n",
       "        [ 17,  18,  19,  20]],\n",
       "\n",
       "       [[ 21,  22,  23,  24],\n",
       "        [ 25,  26,  27,  28],\n",
       "        [ 29,  30,  31,  32],\n",
       "        [ 33,  34,  35,  36],\n",
       "        [ 37,  38,  39,  40]],\n",
       "\n",
       "       [[ 41,  42,  43,  44],\n",
       "        [ 45,  46,  47,  48],\n",
       "        [ 49,  50,  51,  52],\n",
       "        [ 53,  54,  55,  56],\n",
       "        [ 57,  58,  59,  60]],\n",
       "\n",
       "       [[ 61,  62,  63,  64],\n",
       "        [ 65,  66,  67,  68],\n",
       "        [ 69,  70,  71,  72],\n",
       "        [ 73,  74,  75,  76],\n",
       "        [ 77,  78,  79,  80]],\n",
       "\n",
       "       [[ 81,  82,  83,  84],\n",
       "        [ 85,  86,  87,  88],\n",
       "        [ 89,  90,  91,  92],\n",
       "        [ 93,  94,  95,  96],\n",
       "        [ 97,  98,  99, 100]]])"
      ]
     },
     "execution_count": 11,
     "metadata": {},
     "output_type": "execute_result"
    }
   ],
   "source": [
    "a4 = np.arange(1,(100+1)).reshape(5,5,4);a4"
   ]
  },
  {
   "cell_type": "code",
   "execution_count": 150,
   "metadata": {},
   "outputs": [
    {
     "name": "stdout",
     "output_type": "stream",
     "text": [
      "----------------------------------------------------------------------------------------------------\n"
     ]
    },
    {
     "data": {
      "text/plain": [
       "array([[ 2,  6, 10, 14, 18],\n",
       "       [22, 26, 30, 34, 38],\n",
       "       [42, 46, 50, 54, 58],\n",
       "       [62, 66, 70, 74, 78],\n",
       "       [82, 86, 90, 94, 98]])"
      ]
     },
     "execution_count": 150,
     "metadata": {},
     "output_type": "execute_result"
    }
   ],
   "source": [
    "a4[0:,2:,0]; #All from frist dim, from 3rd row till end all rows per dim, first column from all dim"
   ]
  },
  {
   "cell_type": "code",
   "execution_count": 153,
   "metadata": {},
   "outputs": [
    {
     "data": {
      "text/plain": [
       "array([[21, 22, 23, 24],\n",
       "       [25, 26, 27, 28],\n",
       "       [29, 30, 31, 32],\n",
       "       [33, 34, 35, 36],\n",
       "       [37, 38, 39, 40]])"
      ]
     },
     "execution_count": 153,
     "metadata": {},
     "output_type": "execute_result"
    }
   ],
   "source": [
    "a4[...,1]; #items from each second column"
   ]
  },
  {
   "cell_type": "code",
   "execution_count": 155,
   "metadata": {},
   "outputs": [
    {
     "data": {
      "text/plain": [
       "array([[ 1,  2,  3,  4],\n",
       "       [ 5,  6,  7,  8],\n",
       "       [ 9, 10, 11, 12],\n",
       "       [13, 14, 15, 16],\n",
       "       [17, 18, 19, 20]])"
      ]
     },
     "execution_count": 155,
     "metadata": {},
     "output_type": "execute_result"
    }
   ],
   "source": [
    "a4[0,...] #items from each first row"
   ]
  },
  {
   "cell_type": "code",
   "execution_count": 165,
   "metadata": {},
   "outputs": [
    {
     "data": {
      "text/plain": [
       "array([1, 4, 5])"
      ]
     },
     "execution_count": 165,
     "metadata": {},
     "output_type": "execute_result"
    }
   ],
   "source": [
    "x = np.array([[1, 2], [3, 4], [5, 6]])  \n",
    "x[[0,1,2], [0,1,0]] #1st dimension 0,1,2 and 2nd dim 0,1,1"
   ]
  },
  {
   "cell_type": "code",
   "execution_count": 184,
   "metadata": {},
   "outputs": [
    {
     "data": {
      "text/plain": [
       "array([[ 0,  2],\n",
       "       [ 9, 11]])"
      ]
     },
     "execution_count": 184,
     "metadata": {},
     "output_type": "execute_result"
    }
   ],
   "source": [
    "x5 = np.array([[ 0,  1,  2],[ 3,  4,  5],[ 6,  7,  8],[ 9, 10, 11]])\n",
    "\n",
    "rows = np.array([[0,0],[3,3]])\n",
    "cols = np.array([[0,2],[0,2]]) \n",
    "y = x5[rows,cols] \n",
    "y"
   ]
  },
  {
   "cell_type": "code",
   "execution_count": 188,
   "metadata": {},
   "outputs": [
    {
     "data": {
      "text/plain": [
       "array([ 0,  2,  4,  6,  8, 10])"
      ]
     },
     "execution_count": 188,
     "metadata": {},
     "output_type": "execute_result"
    }
   ],
   "source": [
    "x5[x5 % 2== 0]"
   ]
  },
  {
   "cell_type": "code",
   "execution_count": 10,
   "metadata": {},
   "outputs": [
    {
     "name": "stdout",
     "output_type": "stream",
     "text": [
      "[1. +0.j 2. +6.j 5. +0.j 3.5+5.j]\n",
      "[False  True False  True]\n",
      "[2. +6.j 3.5+5.j]\n"
     ]
    }
   ],
   "source": [
    "#complex number is like 3*j or 3j\n",
    "\n",
    "x6 = np.array([1, 2+6j, 5, 3.5+5j]);\n",
    "print(x6);\n",
    "print(np.iscomplex(x6));\n",
    "print(x6[np.iscomplex(x6)]);"
   ]
  },
  {
   "cell_type": "code",
   "execution_count": 45,
   "metadata": {},
   "outputs": [
    {
     "name": "stdout",
     "output_type": "stream",
     "text": [
      "Array with broadcasting\n",
      "\n",
      "[[105 110 115 120]\n",
      " [125 130 135 140]\n",
      " [145 150 155 160]\n",
      " [165 170 175 180]\n",
      " [185 190 195 200]]\n",
      "\n",
      "Iterable array C-style order\n",
      "\n",
      "105\n",
      "110\n",
      "115\n",
      "120\n",
      "125\n",
      "130\n",
      "135\n",
      "140\n",
      "145\n",
      "150\n",
      "155\n",
      "160\n",
      "165\n",
      "170\n",
      "175\n",
      "180\n",
      "185\n",
      "190\n",
      "195\n",
      "200\n",
      "\n",
      "Iterable array F-style order\n",
      "\n",
      "525\n",
      "625\n",
      "725\n",
      "825\n",
      "925\n",
      "550\n",
      "650\n",
      "750\n",
      "850\n",
      "950\n",
      "575\n",
      "675\n",
      "775\n",
      "875\n",
      "975\n",
      "600\n",
      "700\n",
      "800\n",
      "900\n",
      "1000\n",
      "\n",
      "Iterable modified array in F-style order\n",
      "\n",
      "210\n",
      "250\n",
      "290\n",
      "330\n",
      "370\n",
      "220\n",
      "260\n",
      "300\n",
      "340\n",
      "380\n",
      "230\n",
      "270\n",
      "310\n",
      "350\n",
      "390\n",
      "240\n",
      "280\n",
      "320\n",
      "360\n",
      "400\n"
     ]
    }
   ],
   "source": [
    "#Broadcasting\n",
    "print('Array with broadcasting')\n",
    "print()\n",
    "a6 = ((a4[0] + a4[1]) *2) + a4[3];\n",
    "print(a6)\n",
    "print()\n",
    "\n",
    "print('Iterable array C-style order')\n",
    "print()\n",
    "for i in np.nditer(a6):\n",
    "    print(i)\n",
    "print()    \n",
    "\n",
    "print('Iterable array F-style order')\n",
    "print()\n",
    "a6b = a6.copy(order='F')\n",
    "for i2 in np.nditer(a6b):\n",
    "    print(i2*5)\n",
    "print()\n",
    "\n",
    "print('Iterable modified array in F-style order')\n",
    "print()\n",
    "a6c = a6.copy(order = 'F')\n",
    "for i3 in np.nditer(a6c, op_flags=['readwrite']):\n",
    "    i3[...] = 2*i3\n",
    "    print(i3)\n"
   ]
  },
  {
   "cell_type": "code",
   "execution_count": 50,
   "metadata": {},
   "outputs": [
    {
     "name": "stdout",
     "output_type": "stream",
     "text": [
      "105:4\n",
      "110:76\n",
      "115:5\n",
      "120:3\n",
      "125:4\n",
      "130:76\n",
      "135:5\n",
      "140:3\n",
      "145:4\n",
      "150:76\n",
      "155:5\n",
      "160:3\n",
      "165:4\n",
      "170:76\n",
      "175:5\n",
      "180:3\n",
      "185:4\n",
      "190:76\n",
      "195:5\n",
      "200:3\n"
     ]
    }
   ],
   "source": [
    "#Broadcasting with nditer\n",
    "a6iter = [4,76,5,3]\n",
    "\n",
    "for x,z in np.nditer([a6,a6iter]):\n",
    "    print('%d:%d' % (x,z),)"
   ]
  },
  {
   "cell_type": "code",
   "execution_count": 64,
   "metadata": {},
   "outputs": [
    {
     "name": "stdout",
     "output_type": "stream",
     "text": [
      "Reshape\n",
      "\n",
      "[[[  1   2   3   4]\n",
      "  [  5   6   7   8]\n",
      "  [  9  10  11  12]\n",
      "  [ 13  14  15  16]\n",
      "  [ 17  18  19  20]]\n",
      "\n",
      " [[ 21  22  23  24]\n",
      "  [ 25  26  27  28]\n",
      "  [ 29  30  31  32]\n",
      "  [ 33  34  35  36]\n",
      "  [ 37  38  39  40]]\n",
      "\n",
      " [[ 41  42  43  44]\n",
      "  [ 45  46  47  48]\n",
      "  [ 49  50  51  52]\n",
      "  [ 53  54  55  56]\n",
      "  [ 57  58  59  60]]\n",
      "\n",
      " [[ 61  62  63  64]\n",
      "  [ 65  66  67  68]\n",
      "  [ 69  70  71  72]\n",
      "  [ 73  74  75  76]\n",
      "  [ 77  78  79  80]]\n",
      "\n",
      " [[ 81  82  83  84]\n",
      "  [ 85  86  87  88]\n",
      "  [ 89  90  91  92]\n",
      "  [ 93  94  95  96]\n",
      "  [ 97  98  99 100]]]\n",
      "\n",
      "Flatten\n",
      "\n",
      "[  1   2   3   4   5   6   7   8   9  10  11  12  13  14  15  16  17  18\n",
      "  19  20  21  22  23  24  25  26  27  28  29  30  31  32  33  34  35  36\n",
      "  37  38  39  40  41  42  43  44  45  46  47  48  49  50  51  52  53  54\n",
      "  55  56  57  58  59  60  61  62  63  64  65  66  67  68  69  70  71  72\n",
      "  73  74  75  76  77  78  79  80  81  82  83  84  85  86  87  88  89  90\n",
      "  91  92  93  94  95  96  97  98  99 100]\n",
      "\n",
      "Ravel F style sorting\n",
      "\n",
      "[  1  21  41  61  81   5  25  45  65  85   9  29  49  69  89  13  33  53\n",
      "  73  93  17  37  57  77  97   2  22  42  62  82   6  26  46  66  86  10\n",
      "  30  50  70  90  14  34  54  74  94  18  38  58  78  98   3  23  43  63\n",
      "  83   7  27  47  67  87  11  31  51  71  91  15  35  55  75  95  19  39\n",
      "  59  79  99   4  24  44  64  84   8  28  48  68  88  12  32  52  72  92\n",
      "  16  36  56  76  96  20  40  60  80 100]\n",
      "\n",
      "Ravel C style sorting\n",
      "\n",
      "[  1   2   3   4   5   6   7   8   9  10  11  12  13  14  15  16  17  18\n",
      "  19  20  21  22  23  24  25  26  27  28  29  30  31  32  33  34  35  36\n",
      "  37  38  39  40  41  42  43  44  45  46  47  48  49  50  51  52  53  54\n",
      "  55  56  57  58  59  60  61  62  63  64  65  66  67  68  69  70  71  72\n",
      "  73  74  75  76  77  78  79  80  81  82  83  84  85  86  87  88  89  90\n",
      "  91  92  93  94  95  96  97  98  99 100]\n",
      "\n",
      "Transpose\n",
      "\n",
      "[[[  1  21  41  61  81]\n",
      "  [  5  25  45  65  85]\n",
      "  [  9  29  49  69  89]\n",
      "  [ 13  33  53  73  93]\n",
      "  [ 17  37  57  77  97]]\n",
      "\n",
      " [[  2  22  42  62  82]\n",
      "  [  6  26  46  66  86]\n",
      "  [ 10  30  50  70  90]\n",
      "  [ 14  34  54  74  94]\n",
      "  [ 18  38  58  78  98]]\n",
      "\n",
      " [[  3  23  43  63  83]\n",
      "  [  7  27  47  67  87]\n",
      "  [ 11  31  51  71  91]\n",
      "  [ 15  35  55  75  95]\n",
      "  [ 19  39  59  79  99]]\n",
      "\n",
      " [[  4  24  44  64  84]\n",
      "  [  8  28  48  68  88]\n",
      "  [ 12  32  52  72  92]\n",
      "  [ 16  36  56  76  96]\n",
      "  [ 20  40  60  80 100]]]\n",
      "\n",
      "Roll Axis\n",
      "\n",
      "(4, 5, 5)\n",
      "\n"
     ]
    }
   ],
   "source": [
    "#NumPy - Array Manipulation\n",
    "print('Reshape')\n",
    "print()\n",
    "a4 = np.arange(1,(100+1)).reshape(5,5,4);\n",
    "print(a4)\n",
    "print()\n",
    "\n",
    "print('Flatten')\n",
    "print()\n",
    "print(a4.flatten())\n",
    "print()\n",
    "\n",
    "print('Ravel F style sorting')\n",
    "print()\n",
    "print(a4.ravel(order = 'F'))\n",
    "print()\n",
    "\n",
    "print('Ravel C style sorting')\n",
    "print()\n",
    "print(a4.ravel(order = 'C'))\n",
    "print()\n",
    "\n",
    "print('Transpose')\n",
    "print()\n",
    "print(a4.T)\n",
    "print()\n",
    "\n",
    "print('Roll Axis')\n",
    "print()\n",
    "print(np.rollaxis(a4,2).shape)\n",
    "print()\n",
    "\n"
   ]
  },
  {
   "cell_type": "code",
   "execution_count": 88,
   "metadata": {},
   "outputs": [
    {
     "data": {
      "text/plain": [
       "array([[0, 1, 2, 3],\n",
       "       [2, 3, 4, 5],\n",
       "       [4, 5, 6, 7],\n",
       "       [6, 7, 8, 9]])"
      ]
     },
     "execution_count": 88,
     "metadata": {},
     "output_type": "execute_result"
    }
   ],
   "source": [
    "#Strides - moving rows\n",
    "a = np.arange(10)\n",
    "np.lib.stride_tricks.as_strided(a, shape = (7, 4), strides = a.strides * 2)[::2]"
   ]
  },
  {
   "cell_type": "code",
   "execution_count": 92,
   "metadata": {},
   "outputs": [
    {
     "name": "stdout",
     "output_type": "stream",
     "text": [
      "[[ 0  1  2  3]\n",
      " [ 4  5  6  7]\n",
      " [ 8  9 10 11]\n",
      " [12 13 14 15]\n",
      " [16 17 18 19]]\n"
     ]
    },
    {
     "data": {
      "text/plain": [
       "array([[[ 0,  1],\n",
       "        [ 4,  5]],\n",
       "\n",
       "       [[ 2,  3],\n",
       "        [ 6,  7]],\n",
       "\n",
       "       [[ 4,  5],\n",
       "        [ 8,  9]],\n",
       "\n",
       "       [[ 6,  7],\n",
       "        [10, 11]],\n",
       "\n",
       "       [[ 8,  9],\n",
       "        [12, 13]],\n",
       "\n",
       "       [[10, 11],\n",
       "        [14, 15]],\n",
       "\n",
       "       [[12, 13],\n",
       "        [16, 17]],\n",
       "\n",
       "       [[14, 15],\n",
       "        [18, 19]]])"
      ]
     },
     "execution_count": 92,
     "metadata": {},
     "output_type": "execute_result"
    }
   ],
   "source": [
    "a = np.arange(20).reshape(5, 4)\n",
    "print(a)\n",
    "\n",
    "np.lib.stride_tricks.as_strided(a, shape = (15, 2, 2), strides = (8, 32, 8))[::2]"
   ]
  },
  {
   "cell_type": "code",
   "execution_count": 63,
   "metadata": {},
   "outputs": [
    {
     "data": {
      "text/plain": [
       "array([[1., 0., 0., 0., 0., 0., 0., 0., 0., 0.],\n",
       "       [0., 1., 0., 0., 0., 0., 0., 0., 0., 0.],\n",
       "       [0., 0., 1., 0., 0., 0., 0., 0., 0., 0.],\n",
       "       [0., 0., 0., 1., 0., 0., 0., 0., 0., 0.],\n",
       "       [0., 0., 0., 0., 1., 0., 0., 0., 0., 0.],\n",
       "       [0., 0., 0., 0., 0., 1., 0., 0., 0., 0.],\n",
       "       [0., 0., 0., 0., 0., 0., 1., 0., 0., 0.],\n",
       "       [0., 0., 0., 0., 0., 0., 0., 1., 0., 0.],\n",
       "       [0., 0., 0., 0., 0., 0., 0., 0., 1., 0.],\n",
       "       [0., 0., 0., 0., 0., 0., 0., 0., 0., 1.]])"
      ]
     },
     "execution_count": 63,
     "metadata": {},
     "output_type": "execute_result"
    }
   ],
   "source": [
    "np.eye(10)"
   ]
  },
  {
   "cell_type": "code",
   "execution_count": 70,
   "metadata": {},
   "outputs": [
    {
     "name": "stdout",
     "output_type": "stream",
     "text": [
      "[3 3 6 2 2 6 8 5 4 6]\n",
      "[4 4 3 0 4 4 7 5 0 3]\n",
      "[3 4 5]\n"
     ]
    }
   ],
   "source": [
    "Z1 = np.random.randint(0,10,10)\n",
    "Z2 = np.random.randint(0,10,10)\n",
    "print(Z1)\n",
    "print(Z2)\n",
    "print(np.intersect1d(Z1,Z2))"
   ]
  },
  {
   "cell_type": "code",
   "execution_count": 72,
   "metadata": {},
   "outputs": [
    {
     "name": "stdout",
     "output_type": "stream",
     "text": [
      "Today is:  2019-01-28 Yesterday was:  2019-01-27 Tomorrow will be:  2019-01-29\n"
     ]
    }
   ],
   "source": [
    "\n",
    "yesterday = np.datetime64('today', 'D') - np.timedelta64(1, 'D')\n",
    "today     = np.datetime64('today', 'D')\n",
    "tomorrow  = np.datetime64('today', 'D') + np.timedelta64(1, 'D')\n",
    "\n",
    "print('Today is: ',today, 'Yesterday was: ', yesterday, 'Tomorrow will be: ', tomorrow)"
   ]
  },
  {
   "cell_type": "code",
   "execution_count": 5,
   "metadata": {},
   "outputs": [
    {
     "data": {
      "text/plain": [
       "array([[0, 0, 0, 0, 0],\n",
       "       [0, 0, 0, 0, 0],\n",
       "       [0, 0, 0, 0, 0],\n",
       "       [0, 0, 0, 0, 0],\n",
       "       [0, 0, 0, 0, 0]])"
      ]
     },
     "execution_count": 5,
     "metadata": {},
     "output_type": "execute_result"
    }
   ],
   "source": [
    "np.zeros((5,5),dtype=int)"
   ]
  },
  {
   "cell_type": "code",
   "execution_count": 56,
   "metadata": {},
   "outputs": [
    {
     "name": "stdout",
     "output_type": "stream",
     "text": [
      "Non-zero elements of z1:  (array([1, 3, 5, 7]),)\n"
     ]
    }
   ],
   "source": [
    "z1 = [0,1,0,3,0,5,0,7]\n",
    "print('Non-zero elements of z1: ',np.nonzero(z1))"
   ]
  },
  {
   "cell_type": "code",
   "execution_count": 6,
   "metadata": {},
   "outputs": [
    {
     "data": {
      "text/plain": [
       "array([[1, 1, 1, 1, 1, 1, 1, 1, 1, 1],\n",
       "       [1, 1, 1, 1, 1, 1, 1, 1, 1, 1],\n",
       "       [1, 1, 1, 1, 1, 1, 1, 1, 1, 1],\n",
       "       [1, 1, 1, 1, 1, 1, 1, 1, 1, 1],\n",
       "       [1, 1, 1, 1, 1, 1, 1, 1, 1, 1],\n",
       "       [1, 1, 1, 1, 1, 1, 1, 1, 1, 1],\n",
       "       [1, 1, 1, 1, 1, 1, 1, 1, 1, 1],\n",
       "       [1, 1, 1, 1, 1, 1, 1, 1, 1, 1],\n",
       "       [1, 1, 1, 1, 1, 1, 1, 1, 1, 1],\n",
       "       [1, 1, 1, 1, 1, 1, 1, 1, 1, 1]])"
      ]
     },
     "execution_count": 6,
     "metadata": {},
     "output_type": "execute_result"
    }
   ],
   "source": [
    "np.ones((10,10),dtype=int,)"
   ]
  },
  {
   "cell_type": "code",
   "execution_count": 18,
   "metadata": {},
   "outputs": [
    {
     "name": "stdout",
     "output_type": "stream",
     "text": [
      "[[ 0  1  2  3  4  5]\n",
      " [ 6  7  8  9 10 11]\n",
      " [12 13 14 15 16 17]]\n",
      "\n",
      "[[ 0  1  2  3  4  5]\n",
      " [ 6  7  8  9 10 11]]\n",
      "\n",
      "[[ 0  1  2  3  4  5]\n",
      " [ 6  7  8  9 10 11]\n",
      " [12 13 14 15 16 17]\n",
      " [ 0  1  2  3  4  5]\n",
      " [ 6  7  8  9 10 11]]\n"
     ]
    }
   ],
   "source": [
    "x1 = np.arange(18).reshape((3, 6));\n",
    "y1 = np.arange(12).reshape((2, 6));\n",
    "print(x1)\n",
    "print()\n",
    "print(y1)\n",
    "print()\n",
    "print(np.concatenate((x1, y1), axis=0))"
   ]
  },
  {
   "cell_type": "code",
   "execution_count": 15,
   "metadata": {},
   "outputs": [
    {
     "name": "stdout",
     "output_type": "stream",
     "text": [
      "[[ 0  1  2  3  4  5]\n",
      " [ 6  7  8  9 10 11]\n",
      " [12 13 14 15 16 17]]\n",
      "\n",
      "[[ 0  1  2  3]\n",
      " [ 4  5  6  7]\n",
      " [ 8  9 10 11]]\n",
      "\n",
      "[[ 0  1  2  3  4  5  0  1  2  3]\n",
      " [ 6  7  8  9 10 11  4  5  6  7]\n",
      " [12 13 14 15 16 17  8  9 10 11]]\n"
     ]
    }
   ],
   "source": [
    "x2 = np.arange(18).reshape((3, 6));\n",
    "y2 = np.arange(12).reshape((3, 4));\n",
    "print(x2)\n",
    "print()\n",
    "print(y2)\n",
    "print()\n",
    "print(np.concatenate((x2, y2), axis=1))"
   ]
  },
  {
   "cell_type": "code",
   "execution_count": 22,
   "metadata": {},
   "outputs": [
    {
     "name": "stdout",
     "output_type": "stream",
     "text": [
      "Vstack, same number of columns\n",
      "[[ 0  1  2  3  4  5]\n",
      " [ 6  7  8  9 10 11]\n",
      " [12 13 14 15 16 17]\n",
      " [ 0  1  2  3  4  5]\n",
      " [ 6  7  8  9 10 11]]\n",
      "\n",
      "Hstack, same number of rows\n",
      "[[ 0  1  2  3  4  5  0  1  2  3]\n",
      " [ 6  7  8  9 10 11  4  5  6  7]\n",
      " [12 13 14 15 16 17  8  9 10 11]]\n"
     ]
    }
   ],
   "source": [
    "print('Vstack, same number of columns')\n",
    "print(np.vstack((x1,y1)))\n",
    "print()\n",
    "print('Hstack, same number of rows')\n",
    "print(np.hstack((x2,y2)))"
   ]
  },
  {
   "cell_type": "code",
   "execution_count": 49,
   "metadata": {},
   "outputs": [
    {
     "name": "stdout",
     "output_type": "stream",
     "text": [
      "Random\n",
      "[[4.17022005e-01 7.20324493e-01 1.14374817e-04 3.02332573e-01\n",
      "  1.46755891e-01]\n",
      " [9.23385948e-02 1.86260211e-01 3.45560727e-01 3.96767474e-01\n",
      "  5.38816734e-01]]\n",
      "[0.41919451 0.6852195  0.20445225 0.87811744 0.02738759]\n",
      "Permutation\n",
      "[8 3 5 9 0 6 1 7 4 2]\n",
      "[[ 0  1  2  3  4  5]\n",
      " [ 6  7  8  9 10 11]\n",
      " [12 13 14 15 16 17]]\n",
      "Shuffle\n",
      "None\n",
      "Choice\n",
      "6\n",
      "Seed\n"
     ]
    }
   ],
   "source": [
    "print('Random')\n",
    "print(np.random.random((2,5)))\n",
    "print(np.random.random(5))\n",
    "\n",
    "print('Permutation')\n",
    "print(np.random.permutation(10))\n",
    "print(np.random.permutation(x1))\n",
    "\n",
    "print('Shuffle')\n",
    "x2= np.arange(10)\n",
    "print(np.random.shuffle(x2))\n",
    "\n",
    "print('Choice')\n",
    "print(np.random.choice(x2))\n"
   ]
  },
  {
   "cell_type": "code",
   "execution_count": 50,
   "metadata": {},
   "outputs": [],
   "source": []
  }
 ],
 "metadata": {
  "kernelspec": {
   "display_name": "Python 3",
   "language": "python",
   "name": "python3"
  },
  "language_info": {
   "codemirror_mode": {
    "name": "ipython",
    "version": 3
   },
   "file_extension": ".py",
   "mimetype": "text/x-python",
   "name": "python",
   "nbconvert_exporter": "python",
   "pygments_lexer": "ipython3",
   "version": "3.6.7"
  }
 },
 "nbformat": 4,
 "nbformat_minor": 2
}
